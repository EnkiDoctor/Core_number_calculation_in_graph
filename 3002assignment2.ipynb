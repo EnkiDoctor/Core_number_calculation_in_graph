{
 "cells": [
  {
   "cell_type": "markdown",
   "metadata": {},
   "source": [
    "### SDSC3002 Assignment2 Q4  \n",
    "*Name: DU Junye &emsp;  SID: 56641800*"
   ]
  },
  {
   "cell_type": "code",
   "execution_count": 5,
   "metadata": {},
   "outputs": [],
   "source": [
    "from collections import defaultdict  \n",
    "import time\n",
    "# import relavant packages "
   ]
  },
  {
   "cell_type": "code",
   "execution_count": 1,
   "metadata": {},
   "outputs": [],
   "source": [
    "# define the data structure and member function\n",
    "class Graph:\n",
    "    def __init__(self):\n",
    "        self.graph = defaultdict(list)\n",
    "        self.degree = defaultdict(lambda: 0)\n",
    "        self.answer = defaultdict(lambda: 0)\n",
    "    def addEdge(self, u, v):\n",
    "        self.graph[u].append(v)\n",
    "        self.graph[v].append(u)\n",
    "    def initialdegree(self):\n",
    "        for i in list(self.graph):\n",
    "            self.degree[i] = len(self.graph[i])\n",
    "    def movenode(self,v):\n",
    "        for i in self.graph[v]: self.graph[i].remove(v)\n",
    "        self.graph.pop(v)\n",
    "    def Kcore(self):\n",
    "        self.initialdegree()\n",
    "        for k in range(2, max(self.degree)):\n",
    "            if not self.graph: break\n",
    "            while(True):\n",
    "                boolean = True\n",
    "                for i in list(self.graph):\n",
    "                    if self.degree[i] < k:\n",
    "                        self.answer[i] = k-1\n",
    "                        self.movenode(i)\n",
    "                        boolean = False\n",
    "                self.initialdegree()\n",
    "                if boolean == True: break\n",
    "            k = k+1"
   ]
  },
  {
   "cell_type": "code",
   "execution_count": 7,
   "metadata": {},
   "outputs": [
    {
     "name": "stdout",
     "output_type": "stream",
     "text": [
      "The total time of executing the code is around 6.53s\n"
     ]
    }
   ],
   "source": [
    "start = time.time()\n",
    "# construct a graph class\n",
    "g = Graph()\n",
    "\n",
    "# open the txt file \n",
    "with open('DBLP.txt') as f:\n",
    "    f.readline()\n",
    "    lines = (line for line in f)\n",
    "    for line in lines:\n",
    "        line = line.strip('\\n') \n",
    "        nodes = line.split(sep='\\t')[:]\n",
    "        g.addEdge(int(nodes[0]),int(nodes[1]))  # add edges into the graph \n",
    "\n",
    "# call the kcore function \n",
    "g.Kcore()\n",
    "\n",
    "# write in the txt file \n",
    "f=open('result.txt', 'w')\n",
    "for i in list(g.answer):\n",
    "    f.write(f'{i}:{g.answer[i]}\\n')\n",
    "f.close()\n",
    "\n",
    "end = time.time()\n",
    "print(\"The total time of executing the code is around {:.2f}s\".format(end-start))"
   ]
  }
 ],
 "metadata": {
  "interpreter": {
   "hash": "a8f61be024eba58adef938c9aa1e29e02cb3dece83a5348b1a2dafd16a070453"
  },
  "kernelspec": {
   "display_name": "Python 3.9.7 ('base')",
   "language": "python",
   "name": "python3"
  },
  "language_info": {
   "codemirror_mode": {
    "name": "ipython",
    "version": 3
   },
   "file_extension": ".py",
   "mimetype": "text/x-python",
   "name": "python",
   "nbconvert_exporter": "python",
   "pygments_lexer": "ipython3",
   "version": "3.9.7"
  },
  "orig_nbformat": 4
 },
 "nbformat": 4,
 "nbformat_minor": 2
}
